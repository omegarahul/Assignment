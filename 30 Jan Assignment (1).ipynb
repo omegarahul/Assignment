{
 "cells": [
  {
   "cell_type": "code",
   "execution_count": 5,
   "id": "1804f8b3-961f-4b8b-831f-8860caebc50f",
   "metadata": {},
   "outputs": [
    {
     "name": "stdin",
     "output_type": "stream",
     "text": [
      "Enter student percentage marks 68\n"
     ]
    },
    {
     "name": "stdout",
     "output_type": "stream",
     "text": [
      "Student Got Grade C\n"
     ]
    }
   ],
   "source": [
    "##Question 1\n",
    "Marks=int(input(\"Enter student percentage marks\"))\n",
    "if Marks>90:\n",
    "    print(\"Student Got Grade A\")\n",
    "elif Marks>80:\n",
    "    print(\"Student Got Grade B\")\n",
    "elif Marks>60:\n",
    "    print(\"Student Got Grade C\")\n",
    "else:\n",
    "    print(\"Student Got Grade D\")"
   ]
  },
  {
   "cell_type": "code",
   "execution_count": 12,
   "id": "b8102141-2a79-4a29-87b7-90c62c14559b",
   "metadata": {},
   "outputs": [
    {
     "name": "stdin",
     "output_type": "stream",
     "text": [
      "Enter the cost of Bike -5555\n"
     ]
    },
    {
     "name": "stdout",
     "output_type": "stream",
     "text": [
      "Enter valid price\n"
     ]
    }
   ],
   "source": [
    "#Question 2\n",
    "Price=int(input(\"Enter the cost of Bike\"))\n",
    "if Price<=0:\n",
    "          print(\"Enter valid price\")\n",
    "elif Price>100000:\n",
    "          print(\"Your road tax is: \",Price*0.15)\n",
    "elif Price>50000:\n",
    "          print(\"Your road tax is: \",Price*0.10)\n",
    "else:\n",
    "          print(\"Your road tax is: \",Price*0.05)\n",
    "\n",
    "          \n",
    "          "
   ]
  },
  {
   "cell_type": "code",
   "execution_count": 19,
   "id": "b90d166d-fe29-486b-b4b5-91a06447803e",
   "metadata": {},
   "outputs": [
    {
     "name": "stdin",
     "output_type": "stream",
     "text": [
      "Enter the number of city to got its Monument: 1. Delhi, 2. Agra, 3. Jaipur 3\n"
     ]
    },
    {
     "name": "stdout",
     "output_type": "stream",
     "text": [
      "Jal Mahal\n"
     ]
    }
   ],
   "source": [
    "#Question 3\n",
    "city=int(input(\"Enter the number of city to got its Monument: 1. Delhi, 2. Agra, 3. Jaipur\"))\n",
    "if city==1:\n",
    "    print(\"Red Fort\")\n",
    "elif city==2:\n",
    "    print(\"Taj Mahal\")\n",
    "elif city==3:\n",
    "    print(\"Jal Mahal\")\n",
    "else:\n",
    "    print(\"Please enter valid entry from 1,2,3\")"
   ]
  },
  {
   "cell_type": "code",
   "execution_count": 24,
   "id": "af91dce8-5e30-4bc3-8161-c9a09cd53793",
   "metadata": {},
   "outputs": [
    {
     "name": "stdin",
     "output_type": "stream",
     "text": [
      "Enter number 675\n"
     ]
    },
    {
     "name": "stdout",
     "output_type": "stream",
     "text": [
      "number can be divide by 3,  4  times\n"
     ]
    }
   ],
   "source": [
    "#Question-4\n",
    "num = int(input(\"Enter number\"))\n",
    "count=0\n",
    "while num>=10 :\n",
    "    count=count+1\n",
    "    num=num//3\n",
    "print('number can be divide by 3, ',count,' times')"
   ]
  },
  {
   "cell_type": "markdown",
   "id": "2f9e67f6-298f-4899-804e-f8f5387ba0ef",
   "metadata": {},
   "source": [
    "#Question-5\n",
    "We use while loop to run a block of code untill a certain condition met. It check the condition, and if it true it run the code inside. and it check again untill the condition is true.\n",
    "For example we can see question no 4 of this assignment. It runs the block code untill the num value is greater than(as per given condition).\n",
    "Lets evaluate it:\n",
    "We given input of 675.\n",
    "it checks condition 675>10, conndition satisfied, block code runs.\n",
    "675//3=225\n",
    "now condition check again 225>10, block code will run again\n",
    "225//3=75\n",
    "now 75>10\n",
    "75//3=25\n",
    "25>10\n",
    "25//3=8\n",
    "And now condition failed because 8 is less than 10. So while loostops here."
   ]
  },
  {
   "cell_type": "code",
   "execution_count": 3,
   "id": "090c9b7b-d464-4ac3-ac6a-7c85210bb43e",
   "metadata": {},
   "outputs": [
    {
     "name": "stdout",
     "output_type": "stream",
     "text": [
      "@\n",
      "@@\n",
      "@@@\n",
      "@@@@\n",
      "$$$$$$$$$$$$\n",
      "$$$$$$$$$$\n",
      "$$$$$$$$\n",
      "$$$$$$\n",
      "$$$$\n",
      "&\n",
      "&&\n",
      "&&&\n",
      "&&&&\n",
      "&&&&&\n",
      "&&&&&&\n"
     ]
    }
   ],
   "source": [
    "#Question 6\n",
    "a=15\n",
    "b=1\n",
    "c=12\n",
    "d=1\n",
    "while a>b:\n",
    "    while b<5:\n",
    "        print('@'*b)\n",
    "        b=b+1\n",
    "    while b<10:\n",
    "        print('$'*c)\n",
    "        c=c-2\n",
    "        b=b+1\n",
    "    while b<=15:\n",
    "        print('&'*d)\n",
    "        d=d+1\n",
    "        b=b+1\n"
   ]
  },
  {
   "cell_type": "code",
   "execution_count": 4,
   "id": "ad9d6619-cbf5-459b-b1b2-04982945f210",
   "metadata": {},
   "outputs": [
    {
     "name": "stdout",
     "output_type": "stream",
     "text": [
      "10\n",
      "9\n",
      "8\n",
      "7\n",
      "6\n",
      "5\n",
      "4\n",
      "3\n",
      "2\n",
      "1\n"
     ]
    }
   ],
   "source": [
    "#Question-7\n",
    "a=10\n",
    "while a>0:\n",
    "    print(a)\n",
    "    a-=1"
   ]
  },
  {
   "cell_type": "markdown",
   "id": "61530e75-0359-428b-99eb-ae499737d065",
   "metadata": {},
   "source": [
    "#Question 8 & 7 are same"
   ]
  },
  {
   "cell_type": "code",
   "execution_count": null,
   "id": "23201758-5e8a-4a1b-b82f-53667c4d6c68",
   "metadata": {},
   "outputs": [],
   "source": []
  }
 ],
 "metadata": {
  "kernelspec": {
   "display_name": "Python 3 (ipykernel)",
   "language": "python",
   "name": "python3"
  },
  "language_info": {
   "codemirror_mode": {
    "name": "ipython",
    "version": 3
   },
   "file_extension": ".py",
   "mimetype": "text/x-python",
   "name": "python",
   "nbconvert_exporter": "python",
   "pygments_lexer": "ipython3",
   "version": "3.9.13"
  }
 },
 "nbformat": 4,
 "nbformat_minor": 5
}
