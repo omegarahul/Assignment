{
 "cells": [
  {
   "cell_type": "markdown",
   "id": "bcf20f4a-3aed-450c-ad98-71ccff3d550d",
   "metadata": {},
   "source": [
    "1. Guido van Rossum"
   ]
  },
  {
   "cell_type": "markdown",
   "id": "5c7ebd85-1e00-4de5-88c9-0bfa19a8c098",
   "metadata": {},
   "source": [
    "2. Python is an interpreted programming language, supporting \"Object oriented programming\", and \"functional Programming\"."
   ]
  },
  {
   "cell_type": "markdown",
   "id": "9e5ee1e9-38f8-482c-92f7-8a9fb8d4d2ca",
   "metadata": {},
   "source": [
    "3. Yes, Python is case sensitive. "
   ]
  },
  {
   "cell_type": "markdown",
   "id": "bb2dfb1f-5de9-472b-9329-e9b791237c22",
   "metadata": {},
   "source": [
    "4.  .py is extension of python file"
   ]
  },
  {
   "cell_type": "markdown",
   "id": "8fbfb513-e5ea-4b55-8fee-e572a25308be",
   "metadata": {},
   "source": [
    "5. Python is an interpreted language."
   ]
  },
  {
   "cell_type": "markdown",
   "id": "e14e3308-9479-4f71-a0d2-7f0a86108aac",
   "metadata": {},
   "source": [
    "6. Indentation is used to define a block of code in python"
   ]
  },
  {
   "cell_type": "markdown",
   "id": "daa187f6-6fc9-45f7-8fcc-1869e6112f3c",
   "metadata": {},
   "source": [
    "7. Double hash(##) is used to give single line comment in python"
   ]
  },
  {
   "cell_type": "markdown",
   "id": "3f55e035-201c-4e1e-8c3c-52f26102a44f",
   "metadata": {},
   "source": [
    "8. Using sys.version method,\n",
    "   Using python_version() function,\n",
    "    Using Python -V command"
   ]
  },
  {
   "cell_type": "markdown",
   "id": "90b6bd4b-ea70-49da-a97d-df55e6894d8b",
   "metadata": {},
   "source": [
    "9. Lambda"
   ]
  },
  {
   "cell_type": "markdown",
   "id": "efb4f509-415e-4940-a939-e49d9787b75d",
   "metadata": {},
   "source": [
    "10. pip(preferred iinstaller program) is a package manager in python"
   ]
  },
  {
   "cell_type": "markdown",
   "id": "f3f9e23d-da8e-4c7e-aed6-ebd52b522952",
   "metadata": {},
   "source": [
    "11. few functions are: print(), type(), len(), input(), sorted(), max(),min()"
   ]
  },
  {
   "cell_type": "markdown",
   "id": "618f1526-11ca-4d82-a48f-24f87ae7b612",
   "metadata": {},
   "source": [
    "12. 79 characters are possible in an identifier"
   ]
  },
  {
   "cell_type": "markdown",
   "id": "c37fdeee-bc4c-41fd-9c5d-bbebda43d3c9",
   "metadata": {},
   "source": [
    "13. Benifits of python:\n",
    "    a) simple to use and understand\n",
    "    b) free and open-source\n",
    "    c) Interpreted language\n",
    "    d) Dynamically typed\n",
    "    e) Extensive library"
   ]
  },
  {
   "cell_type": "markdown",
   "id": "c08e9ee7-038f-41c5-b909-9762b7732022",
   "metadata": {},
   "source": [
    "14. Memory in python is managed by Python Private Heap space"
   ]
  },
  {
   "cell_type": "markdown",
   "id": "718a5897-2ba6-4bd3-b10d-8bf8ea78b55c",
   "metadata": {},
   "source": [
    "15. steps to install python in windows: 1. Open a browser to the Python website and download the Windows installer. 2. Double click on the downloaded file and install Python for all users, and ensure that Python is added to your path. Click on Install now to begin. We can add path by enable add Python to Path during installation."
   ]
  },
  {
   "cell_type": "markdown",
   "id": "35d4c0d9-5cff-445e-a842-1c441ea5e63a",
   "metadata": {},
   "source": [
    "16. Yes,  Indentation is compulsory in Python to define a block of code."
   ]
  },
  {
   "cell_type": "code",
   "execution_count": null,
   "id": "c62ef638-7a75-4f49-b5df-3cf4c91fb0b4",
   "metadata": {},
   "outputs": [],
   "source": []
  }
 ],
 "metadata": {
  "kernelspec": {
   "display_name": "Python 3 (ipykernel)",
   "language": "python",
   "name": "python3"
  },
  "language_info": {
   "codemirror_mode": {
    "name": "ipython",
    "version": 3
   },
   "file_extension": ".py",
   "mimetype": "text/x-python",
   "name": "python",
   "nbconvert_exporter": "python",
   "pygments_lexer": "ipython3",
   "version": "3.9.13"
  }
 },
 "nbformat": 4,
 "nbformat_minor": 5
}
